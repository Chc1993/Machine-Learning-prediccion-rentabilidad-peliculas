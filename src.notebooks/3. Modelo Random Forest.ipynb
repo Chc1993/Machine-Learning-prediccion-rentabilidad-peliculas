{
 "cells": [
  {
   "cell_type": "markdown",
   "metadata": {},
   "source": [
    "## Modelo Random forest"
   ]
  },
  {
   "cell_type": "code",
   "execution_count": 21,
   "metadata": {},
   "outputs": [],
   "source": [
    "# Tratamiento de datos\n",
    "# ------------------------------------------------------------------------------\n",
    "import numpy as np\n",
    "import pandas as pd\n",
    "import statsmodels.api as sm\n",
    "\n",
    "# Gráficos\n",
    "# ------------------------------------------------------------------------------\n",
    "import matplotlib.pyplot as plt\n",
    "\n",
    "# Preprocesado y modelado\n",
    "# ------------------------------------------------------------------------------\n",
    "from sklearn import preprocessing\n",
    "from sklearn.model_selection import train_test_split\n",
    "\n",
    "from sklearn.ensemble import RandomForestClassifier\n",
    "\n",
    "from sklearn.metrics import classification_report\n",
    "from sklearn.metrics import confusion_matrix, accuracy_score, precision_score, recall_score, f1_score, roc_auc_score\n",
    "from sklearn.tree import plot_tree\n",
    "\n",
    "from sklearn.metrics import mean_squared_error\n",
    "\n"
   ]
  },
  {
   "cell_type": "code",
   "execution_count": 22,
   "metadata": {},
   "outputs": [
    {
     "data": {
      "text/html": [
       "<div>\n",
       "<style scoped>\n",
       "    .dataframe tbody tr th:only-of-type {\n",
       "        vertical-align: middle;\n",
       "    }\n",
       "\n",
       "    .dataframe tbody tr th {\n",
       "        vertical-align: top;\n",
       "    }\n",
       "\n",
       "    .dataframe thead th {\n",
       "        text-align: right;\n",
       "    }\n",
       "</style>\n",
       "<table border=\"1\" class=\"dataframe\">\n",
       "  <thead>\n",
       "    <tr style=\"text-align: right;\">\n",
       "      <th></th>\n",
       "      <th>Unnamed: 0</th>\n",
       "      <th>Director_Avg_Movie_Revenue</th>\n",
       "      <th>Keywords_Avg_Revenue</th>\n",
       "      <th>Studios_Avg_Movie_Revenue</th>\n",
       "      <th>Lead_Actor_Avg_Movie_Revenue</th>\n",
       "      <th>Budget</th>\n",
       "      <th>Class</th>\n",
       "    </tr>\n",
       "  </thead>\n",
       "  <tbody>\n",
       "    <tr>\n",
       "      <th>0</th>\n",
       "      <td>0</td>\n",
       "      <td>3.140352e+08</td>\n",
       "      <td>2.186970e+08</td>\n",
       "      <td>3.100957e+08</td>\n",
       "      <td>3.383931e+08</td>\n",
       "      <td>105500000.0</td>\n",
       "      <td>1</td>\n",
       "    </tr>\n",
       "    <tr>\n",
       "      <th>1</th>\n",
       "      <td>1</td>\n",
       "      <td>3.140352e+08</td>\n",
       "      <td>2.186970e+08</td>\n",
       "      <td>3.100957e+08</td>\n",
       "      <td>2.664292e+08</td>\n",
       "      <td>105500000.0</td>\n",
       "      <td>1</td>\n",
       "    </tr>\n",
       "    <tr>\n",
       "      <th>2</th>\n",
       "      <td>2</td>\n",
       "      <td>3.140352e+08</td>\n",
       "      <td>2.186970e+08</td>\n",
       "      <td>3.100957e+08</td>\n",
       "      <td>2.726865e+08</td>\n",
       "      <td>105500000.0</td>\n",
       "      <td>1</td>\n",
       "    </tr>\n",
       "    <tr>\n",
       "      <th>3</th>\n",
       "      <td>3</td>\n",
       "      <td>3.140352e+08</td>\n",
       "      <td>1.840612e+08</td>\n",
       "      <td>2.561719e+08</td>\n",
       "      <td>2.935823e+08</td>\n",
       "      <td>105500000.0</td>\n",
       "      <td>1</td>\n",
       "    </tr>\n",
       "    <tr>\n",
       "      <th>4</th>\n",
       "      <td>4</td>\n",
       "      <td>3.140352e+08</td>\n",
       "      <td>2.186970e+08</td>\n",
       "      <td>3.100957e+08</td>\n",
       "      <td>3.383931e+08</td>\n",
       "      <td>105500000.0</td>\n",
       "      <td>1</td>\n",
       "    </tr>\n",
       "  </tbody>\n",
       "</table>\n",
       "</div>"
      ],
      "text/plain": [
       "   Unnamed: 0  Director_Avg_Movie_Revenue  Keywords_Avg_Revenue  \\\n",
       "0           0                3.140352e+08          2.186970e+08   \n",
       "1           1                3.140352e+08          2.186970e+08   \n",
       "2           2                3.140352e+08          2.186970e+08   \n",
       "3           3                3.140352e+08          1.840612e+08   \n",
       "4           4                3.140352e+08          2.186970e+08   \n",
       "\n",
       "   Studios_Avg_Movie_Revenue  Lead_Actor_Avg_Movie_Revenue       Budget  Class  \n",
       "0               3.100957e+08                  3.383931e+08  105500000.0      1  \n",
       "1               3.100957e+08                  2.664292e+08  105500000.0      1  \n",
       "2               3.100957e+08                  2.726865e+08  105500000.0      1  \n",
       "3               2.561719e+08                  2.935823e+08  105500000.0      1  \n",
       "4               3.100957e+08                  3.383931e+08  105500000.0      1  "
      ]
     },
     "execution_count": 22,
     "metadata": {},
     "output_type": "execute_result"
    }
   ],
   "source": [
    "dataset = pd.read_csv(\"database_final2.csv\")\n",
    "dataset.head()"
   ]
  },
  {
   "cell_type": "code",
   "execution_count": 23,
   "metadata": {},
   "outputs": [],
   "source": [
    "#nuevo dataset con las variables de interés, ya que se ha generado una columna nueva al crearlo anteriormente\n",
    "dataset = dataset [[\"Budget\", \"Director_Avg_Movie_Revenue\", \"Keywords_Avg_Revenue\", \"Studios_Avg_Movie_Revenue\", \"Lead_Actor_Avg_Movie_Revenue\", \"Class\"]]"
   ]
  },
  {
   "cell_type": "code",
   "execution_count": 24,
   "metadata": {},
   "outputs": [],
   "source": [
    "X = dataset.drop([\"Class\"],axis = 1)\n",
    "y = dataset[\"Class\"]"
   ]
  },
  {
   "cell_type": "code",
   "execution_count": 25,
   "metadata": {},
   "outputs": [],
   "source": [
    "X_train, X_test, y_train, y_test = train_test_split(X, y, test_size=0.3, random_state=42)"
   ]
  },
  {
   "cell_type": "code",
   "execution_count": 26,
   "metadata": {},
   "outputs": [],
   "source": [
    "#escalamos los datos\n",
    "\n",
    "min_max_scaler = preprocessing.MinMaxScaler()\n",
    "\n",
    "X_train = min_max_scaler.fit_transform(X_train)\n",
    "X_test = min_max_scaler.transform(X_test)"
   ]
  },
  {
   "cell_type": "code",
   "execution_count": 27,
   "metadata": {},
   "outputs": [
    {
     "name": "stdout",
     "output_type": "stream",
     "text": [
      "RandomForestClassifier(max_depth=3, max_features='sqrt', n_estimators=120)\n"
     ]
    }
   ],
   "source": [
    "# Para volver a leer el modelo\n",
    "import pickle\n",
    "\n",
    "with open('finished_model.model', \"rb\") as archivo_entrada:\n",
    "    pipeline_importada = pickle.load(archivo_entrada)\n",
    "    \n",
    "print(pipeline_importada)"
   ]
  },
  {
   "cell_type": "markdown",
   "metadata": {},
   "source": [
    "Utilizamos los parámetros seleccionados por Gridsearch como los mejores para mis datos"
   ]
  },
  {
   "cell_type": "code",
   "execution_count": 28,
   "metadata": {},
   "outputs": [],
   "source": [
    "clf = RandomForestClassifier(bootstrap=True, criterion='gini',\n",
    "            max_depth=3, max_features=\"sqrt\", max_leaf_nodes=None,n_estimators=120)"
   ]
  },
  {
   "cell_type": "code",
   "execution_count": 29,
   "metadata": {},
   "outputs": [
    {
     "data": {
      "text/plain": [
       "RandomForestClassifier(max_depth=3, max_features='sqrt', n_estimators=120)"
      ]
     },
     "execution_count": 29,
     "metadata": {},
     "output_type": "execute_result"
    }
   ],
   "source": [
    "clf.fit(X_train,y_train)"
   ]
  },
  {
   "cell_type": "code",
   "execution_count": 30,
   "metadata": {},
   "outputs": [],
   "source": [
    "y_pred = clf.predict(X_test)"
   ]
  },
  {
   "cell_type": "code",
   "execution_count": 31,
   "metadata": {},
   "outputs": [
    {
     "name": "stdout",
     "output_type": "stream",
     "text": [
      "              precision    recall  f1-score   support\n",
      "\n",
      "           0       0.90      0.62      0.73       435\n",
      "           1       0.77      0.95      0.85       592\n",
      "\n",
      "    accuracy                           0.81      1027\n",
      "   macro avg       0.84      0.79      0.79      1027\n",
      "weighted avg       0.83      0.81      0.80      1027\n",
      "\n"
     ]
    },
    {
     "data": {
      "image/png": "[encoded data removed]",
      "text/plain": [
       "<Figure size 640x480 with 2 Axes>"
      ]
     },
     "metadata": {},
     "output_type": "display_data"
    }
   ],
   "source": [
    "print(classification_report(y_test, y_pred))\n",
    "c_mat = confusion_matrix(y_test,y_pred)\n",
    "c_mat\n",
    "\n",
    "import seaborn as sns\n",
    "\n",
    "sns.heatmap(c_mat/c_mat.sum(axis=1), annot=True);\n"
   ]
  },
  {
   "cell_type": "markdown",
   "metadata": {},
   "source": [
    "El modelo es muy bueno prediciendo qué películas no van a ser rentables (un 95% de aciertos), pero solo es capaz de predecir al 63% qué películas sí van a ser rentables. Por esta razón, seguimos probando con diferentes parámetros para intentar calibrar la matriz de confusión.\n",
    "\n",
    "El modelo mejora con un hiperparámetro 10 en la profundidad del árbol"
   ]
  },
  {
   "cell_type": "code",
   "execution_count": 32,
   "metadata": {},
   "outputs": [],
   "source": [
    "clf_2 = RandomForestClassifier(bootstrap=True, criterion='gini',\n",
    "            max_depth=10, max_features=\"sqrt\", max_leaf_nodes=None,n_estimators=120)"
   ]
  },
  {
   "cell_type": "code",
   "execution_count": 33,
   "metadata": {},
   "outputs": [
    {
     "data": {
      "text/plain": [
       "RandomForestClassifier(max_depth=10, max_features='sqrt', n_estimators=120)"
      ]
     },
     "execution_count": 33,
     "metadata": {},
     "output_type": "execute_result"
    }
   ],
   "source": [
    "clf_2.fit(X_train,y_train)"
   ]
  },
  {
   "cell_type": "code",
   "execution_count": 34,
   "metadata": {},
   "outputs": [],
   "source": [
    "y_pred_2 = clf_2.predict(X_test)"
   ]
  },
  {
   "cell_type": "code",
   "execution_count": 35,
   "metadata": {},
   "outputs": [
    {
     "name": "stdout",
     "output_type": "stream",
     "text": [
      "              precision    recall  f1-score   support\n",
      "\n",
      "           0       0.88      0.83      0.85       435\n",
      "           1       0.88      0.92      0.90       592\n",
      "\n",
      "    accuracy                           0.88      1027\n",
      "   macro avg       0.88      0.87      0.88      1027\n",
      "weighted avg       0.88      0.88      0.88      1027\n",
      "\n"
     ]
    },
    {
     "data": {
      "image/png": "[encoded data removed]",
      "text/plain": [
       "<Figure size 640x480 with 2 Axes>"
      ]
     },
     "metadata": {},
     "output_type": "display_data"
    }
   ],
   "source": [
    "print(classification_report(y_test, y_pred_2))\n",
    "c_mat_2 = confusion_matrix(y_test,y_pred_2)\n",
    "c_mat_2\n",
    "\n",
    "sns.heatmap(c_mat_2/c_mat_2.sum(axis=1), annot=True);\n"
   ]
  },
  {
   "cell_type": "markdown",
   "metadata": {},
   "source": [
    "El modelo tiene un accuracy del 88%, una métrica mejor que la anterior.\n",
    "\n",
    "Ahora sí, la predicción está más equilibrada y no se ha perdido a penas predicción en los true negatives. Por tanto, este modelo es bueno al 83% prediciendo las películas que van a ser rentables (True positives) y a un 92% las películas que no van a ser rentables (true negatives).\n",
    "\n",
    "Un 13% de las veces predecirá una película rentable cuando en realidad no lo será, mientras que un 11% de las veces predecirá una película no rentable cuando en realidad sí lo será."
   ]
  }
 ],
 "metadata": {
  "kernelspec": {
   "display_name": "Python 3.7.4 64-bit",
   "language": "python",
   "name": "python3"
  },
  "language_info": {
   "codemirror_mode": {
    "name": "ipython",
    "version": 3
   },
   "file_extension": ".py",
   "mimetype": "text/x-python",
   "name": "python",
   "nbconvert_exporter": "python",
   "pygments_lexer": "ipython3",
   "version": "3.7.4"
  },
  "orig_nbformat": 4,
  "vscode": {
   "interpreter": {
    "hash": "4f21abcc39d77131dba63881d27f1246583c5210342ea8a5e5f7cb80c9014d8c"
   }
  }
 },
 "nbformat": 4,
 "nbformat_minor": 2
}
